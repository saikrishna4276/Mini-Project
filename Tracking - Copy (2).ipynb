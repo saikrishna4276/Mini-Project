{
 "cells": [
  {
   "cell_type": "code",
   "execution_count": 14,
   "metadata": {},
   "outputs": [],
   "source": [
    "import math\n",
    "import sys\n",
    "import required_functions\n",
    "import numpy as np\n",
    "import pandas as pd\n",
    "from scipy.optimize import linear_sum_assignment\n",
    "inff = 1000000000\n",
    "\n",
    "from mpl_toolkits import mplot3d\n",
    "import matplotlib.pyplot as plt\n",
    "from mpl_toolkits.mplot3d import Axes3D\n",
    "%matplotlib inline"
   ]
  },
  {
   "cell_type": "code",
   "execution_count": 15,
   "metadata": {},
   "outputs": [],
   "source": [
    "def get_current_coords(coords, frame):\n",
    "    rows = coords.index[coords.FRAME == frame]\n",
    "    return rows"
   ]
  },
  {
   "cell_type": "code",
   "execution_count": 16,
   "metadata": {},
   "outputs": [],
   "source": [
    "def assign_new_IDs(coords, point_rows):\n",
    "    max_ID = coords.TRACK_ID.max()\n",
    "    for point_row in point_rows:\n",
    "        if coords.TRACK_ID[point_row] == 0:\n",
    "            max_ID = max_ID + 1\n",
    "            coords.TRACK_ID.at[point_row] = max_ID        "
   ]
  },
  {
   "cell_type": "code",
   "execution_count": 17,
   "metadata": {},
   "outputs": [],
   "source": [
    "def get_all_tracks(coords):    \n",
    "    unique_IDs = np.unique(coords.TRACK_ID)\n",
    "    track_rows = []\n",
    "    for unique_ID in unique_IDs:\n",
    "        if unique_ID != 0:\n",
    "            instances = coords.index[coords.TRACK_ID == unique_ID]    \n",
    "            track_rows.append(instances[-1:][0])\n",
    "    return track_rows"
   ]
  },
  {
   "cell_type": "code",
   "execution_count": 18,
   "metadata": {},
   "outputs": [],
   "source": [
    "def get_available_tracks(coords, start_frame, end_frame):\n",
    "    rows = coords.index[(coords.FRAME >= start_frame) & (coords.FRAME <= end_frame)]\n",
    "    available_rows = []\n",
    "    unique_IDs = np.unique(coords.TRACK_ID[rows])\n",
    "    for unique_ID in unique_IDs:\n",
    "        if unique_ID != 0:\n",
    "            instances = coords.index[(coords.TRACK_ID == unique_ID)]    \n",
    "            available_rows.append(instances[-1:][0])\n",
    "    return available_rows"
   ]
  },
  {
   "cell_type": "code",
   "execution_count": 19,
   "metadata": {},
   "outputs": [],
   "source": [
    "def calculate_cost(coords,track_row,point_row,thresh):\n",
    "    dx = coords.X[point_row] - coords.X[track_row]\n",
    "    dy = coords.Y[point_row] - coords.Y[track_row]\n",
    "    d = float(math.sqrt(float(dx*dx + dy*dy)))\n",
    "    if d > thresh:\n",
    "        d = inff\n",
    "    return d"
   ]
  },
  {
   "cell_type": "code",
   "execution_count": 20,
   "metadata": {},
   "outputs": [],
   "source": [
    "def calculate_cost_matrix(coords,track_rows,point_rows,thresh):\n",
    "    costs = np.empty((len(track_rows),len(point_rows)))\n",
    "    for track_i, track_row in enumerate(track_rows):\n",
    "        for point_i,point_row in enumerate(point_rows):            \n",
    "            cost = calculate_cost(coords,track_row,point_row,thresh)\n",
    "            costs[track_i,point_i] = cost\n",
    "    return costs"
   ]
  },
  {
   "cell_type": "code",
   "execution_count": 21,
   "metadata": {},
   "outputs": [],
   "source": [
    "def assign_IDs(coords, track_rows, point_rows, costs):\n",
    "    assignments = linear_sum_assignment(costs)\n",
    "    for track_assignment, point_assignment in zip(assignments[0],assignments[1]):\n",
    "        if costs[track_assignment,point_assignment] < inff:\n",
    "            track_row = track_rows[track_assignment]\n",
    "            point_row = point_rows[point_assignment]\n",
    "            ID = coords.TRACK_ID[track_row]\n",
    "            coords.TRACK_ID.at[point_row] = ID"
   ]
  },
  {
   "cell_type": "code",
   "execution_count": 22,
   "metadata": {},
   "outputs": [
    {
     "name": "stdout",
     "output_type": "stream",
     "text": [
      "Loading images from \" ./images/01/ \"\n",
      "\n",
      "Reading image 92 of 92\n",
      "Loaded image shape:  (256, 256, 92)\n",
      "Loading coordinates from \" ./images/coordinates/experiment_1.csv \"\n",
      "Loaded data shape:  (2008, 6)\n",
      " \n",
      "Processing frame 91"
     ]
    }
   ],
   "source": [
    "%matplotlib widget\n",
    "\n",
    "np.set_printoptions(precision=3,threshold=sys.maxsize)\n",
    "linking_thresh = 5\n",
    "frame_thresh = 3\n",
    "path = \"./images/01/\"\n",
    "images = required_functions.load_images(path);\n",
    "path = \"./images/coordinates/experiment_1.csv\"\n",
    "coords = required_functions.load_coordinates(path);\n",
    "rows_0 = get_current_coords(coords,0)\n",
    "assign_new_IDs(coords,rows_0)\n",
    "n_frames = images.shape[2]\n",
    "for frame in range (1,n_frames):    \n",
    "    sys.stdout.write(\"\\rProcessing frame %i\" % frame)\n",
    "    start_frame = frame - frame_thresh\n",
    "    end_frame = frame-1\n",
    "    track_rows = get_available_tracks(coords,start_frame,end_frame)\n",
    "    point_rows = get_current_coords(coords,frame)\n",
    "    thresh = 10\n",
    "    costs = calculate_cost_matrix(coords,track_rows,point_rows,thresh)\n",
    "    assign_IDs(coords, track_rows, point_rows, costs)\n",
    "    assign_new_IDs(coords,point_rows)"
   ]
  },
  {
   "cell_type": "code",
   "execution_count": 23,
   "metadata": {},
   "outputs": [
    {
     "name": "stdout",
     "output_type": "stream",
     "text": [
      "Rendering frame 92 of 92"
     ]
    },
    {
     "data": {
      "application/vnd.jupyter.widget-view+json": {
       "model_id": "99387d4694fa418f833d72014c28dedc",
       "version_major": 2,
       "version_minor": 0
      },
      "text/plain": [
       "Canvas(toolbar=Toolbar(toolitems=[('Home', 'Reset original view', 'home', 'home'), ('Back', 'Back to previous …"
      ]
     },
     "metadata": {},
     "output_type": "display_data"
    },
    {
     "data": {
      "application/vnd.jupyter.widget-view+json": {
       "model_id": "d4b74b71e7784b37935a65c7a4c564a1",
       "version_major": 2,
       "version_minor": 0
      },
      "text/plain": [
       "interactive(children=(IntSlider(value=0, description='frame', max=91), Output()), _dom_classes=('widget-intera…"
      ]
     },
     "metadata": {},
     "output_type": "display_data"
    }
   ],
   "source": [
    "required_functions.show_overlay(images,coords,True)"
   ]
  },
  {
   "cell_type": "code",
   "execution_count": 24,
   "metadata": {},
   "outputs": [
    {
     "name": "stdout",
     "output_type": "stream",
     "text": [
      "        inde      ID           X           Y  FRAME  TRACK_ID\n",
      "0        0.0     1.0  142.210522   10.880823    0.0       1.0\n",
      "1        1.0     2.0   48.384861   26.279000    0.0       2.0\n",
      "2        2.0     3.0  206.925981   45.645939    0.0       3.0\n",
      "3        3.0     4.0   19.775794   50.961693    0.0       4.0\n",
      "4        4.0     5.0   99.646064   76.501039    0.0       5.0\n",
      "...      ...     ...         ...         ...    ...       ...\n",
      "2003  2003.0  2004.0  177.924070  181.070166   91.0      17.0\n",
      "2004  2004.0  2005.0  114.266401  196.790956   91.0      97.0\n",
      "2005  2005.0  2006.0  107.717568  198.645946   91.0     121.0\n",
      "2006  2006.0  2007.0  185.106294  238.986352   91.0      61.0\n",
      "2007  2007.0  2008.0  190.770833  238.873698   91.0     134.0\n",
      "\n",
      "[2008 rows x 6 columns]\n"
     ]
    }
   ],
   "source": [
    "print(coords)"
   ]
  },
  {
   "cell_type": "code",
   "execution_count": 25,
   "metadata": {},
   "outputs": [],
   "source": [
    "x = coords['X']\n",
    "y = coords['Y']\n",
    "t = coords['FRAME']"
   ]
  },
  {
   "cell_type": "code",
   "execution_count": 26,
   "metadata": {},
   "outputs": [
    {
     "data": {
      "application/vnd.jupyter.widget-view+json": {
       "model_id": "d1d800781a06449eb929032276929068",
       "version_major": 2,
       "version_minor": 0
      },
      "text/plain": [
       "Canvas(toolbar=Toolbar(toolitems=[('Home', 'Reset original view', 'home', 'home'), ('Back', 'Back to previous …"
      ]
     },
     "metadata": {},
     "output_type": "display_data"
    },
    {
     "data": {
      "text/plain": [
       "<mpl_toolkits.mplot3d.art3d.Path3DCollection at 0x1aa2a092ac8>"
      ]
     },
     "execution_count": 26,
     "metadata": {},
     "output_type": "execute_result"
    }
   ],
   "source": [
    "fig = plt.figure(figsize=(200,200))\n",
    "axes = plt.axes(projection='3d')\n",
    "axes.set_xlabel(\"x\")\n",
    "axes.set_ylabel(\"y\")\n",
    "axes.set_zlabel(\"time\")\n",
    "axes.scatter(x,y,t,s=2)"
   ]
  },
  {
   "cell_type": "code",
   "execution_count": null,
   "metadata": {},
   "outputs": [],
   "source": []
  },
  {
   "cell_type": "code",
   "execution_count": null,
   "metadata": {},
   "outputs": [],
   "source": []
  }
 ],
 "metadata": {
  "kernelspec": {
   "display_name": "Python 3",
   "language": "python",
   "name": "python3"
  },
  "language_info": {
   "codemirror_mode": {
    "name": "ipython",
    "version": 3
   },
   "file_extension": ".py",
   "mimetype": "text/x-python",
   "name": "python",
   "nbconvert_exporter": "python",
   "pygments_lexer": "ipython3",
   "version": "3.7.4"
  }
 },
 "nbformat": 4,
 "nbformat_minor": 2
}
