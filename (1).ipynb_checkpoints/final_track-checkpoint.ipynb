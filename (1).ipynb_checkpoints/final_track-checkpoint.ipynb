{
 "cells": [
  {
   "cell_type": "code",
   "execution_count": 1,
   "metadata": {},
   "outputs": [],
   "source": [
    "import math\n",
    "import sys\n",
    "import required_functions\n",
    "import numpy as np\n",
    "import pandas as pd\n",
    "from scipy.optimize import linear_sum_assignment\n",
    "inff = 1000000000"
   ]
  },
  {
   "cell_type": "code",
   "execution_count": 2,
   "metadata": {},
   "outputs": [],
   "source": [
    "def get_current_coords(coords, frame):\n",
    "    rows = coords.index[coords.FRAME == frame]\n",
    "    return rows"
   ]
  },
  {
   "cell_type": "code",
   "execution_count": 3,
   "metadata": {},
   "outputs": [],
   "source": [
    "def assign_new_IDs(coords, point_rows):\n",
    "    max_ID = coords.TRACK_ID.max()\n",
    "    for point_row in point_rows:\n",
    "        if coords.TRACK_ID[point_row] == 0:\n",
    "            max_ID = max_ID + 1\n",
    "            coords.TRACK_ID.at[point_row] = max_ID        "
   ]
  },
  {
   "cell_type": "code",
   "execution_count": 4,
   "metadata": {},
   "outputs": [],
   "source": [
    "def get_all_tracks(coords):    \n",
    "    unique_IDs = np.unique(coords.TRACK_ID)\n",
    "    track_rows = []\n",
    "    for unique_ID in unique_IDs:\n",
    "        if unique_ID != 0:\n",
    "            instances = coords.index[coords.TRACK_ID == unique_ID]    \n",
    "            track_rows.append(instances[-1:][0])\n",
    "    return track_rows"
   ]
  },
  {
   "cell_type": "code",
   "execution_count": 5,
   "metadata": {},
   "outputs": [],
   "source": [
    "def get_available_tracks(coords, start_frame, end_frame):\n",
    "    rows = coords.index[(coords.FRAME >= start_frame) & (coords.FRAME <= end_frame)]\n",
    "    available_rows = []\n",
    "    unique_IDs = np.unique(coords.TRACK_ID[rows])\n",
    "    for unique_ID in unique_IDs:\n",
    "        if unique_ID != 0:\n",
    "            instances = coords.index[(coords.TRACK_ID == unique_ID)]    \n",
    "            available_rows.append(instances[-1:][0])\n",
    "    return available_rows"
   ]
  },
  {
   "cell_type": "code",
   "execution_count": 6,
   "metadata": {},
   "outputs": [],
   "source": [
    "def calculate_cost(coords,track_row,point_row,thresh):\n",
    "    dx = coords.X[point_row] - coords.X[track_row]\n",
    "    dy = coords.Y[point_row] - coords.Y[track_row]\n",
    "    d = float(math.sqrt(float(dx*dx + dy*dy)))\n",
    "    if d > thresh:\n",
    "        d = inff\n",
    "    return d"
   ]
  },
  {
   "cell_type": "code",
   "execution_count": 7,
   "metadata": {},
   "outputs": [],
   "source": [
    "def calculate_cost_matrix(coords,track_rows,point_rows,thresh):\n",
    "    costs = np.empty((len(track_rows),len(point_rows)))\n",
    "    for track_i, track_row in enumerate(track_rows):\n",
    "        for point_i,point_row in enumerate(point_rows):            \n",
    "            cost = calculate_cost(coords,track_row,point_row,thresh)\n",
    "            costs[track_i,point_i] = cost\n",
    "    return costs"
   ]
  },
  {
   "cell_type": "code",
   "execution_count": 8,
   "metadata": {},
   "outputs": [],
   "source": [
    "def assign_IDs(coords, track_rows, point_rows, costs):\n",
    "    assignments = linear_sum_assignment(costs)\n",
    "    for track_assignment, point_assignment in zip(assignments[0],assignments[1]):\n",
    "        if costs[track_assignment,point_assignment] < inff:\n",
    "            track_row = track_rows[track_assignment]\n",
    "            point_row = point_rows[point_assignment]\n",
    "            ID = coords.TRACK_ID[track_row]\n",
    "            coords.TRACK_ID.at[point_row] = ID"
   ]
  },
  {
   "cell_type": "code",
   "execution_count": 10,
   "metadata": {},
   "outputs": [
    {
     "name": "stdout",
     "output_type": "stream",
     "text": [
      "Loading images from \" ./images/01/ \"\n",
      "\n",
      "Reading image 92 of 92\n",
      "Loaded image shape:  (256, 256, 92)\n",
      "Loading coordinates from \" ./images/coordinates/Tracks1.csv \"\n",
      "Loaded data shape:  (2058, 5)\n",
      " \n",
      "Processing frame 91"
     ]
    }
   ],
   "source": [
    "%matplotlib widget\n",
    "\n",
    "np.set_printoptions(precision=3,threshold=sys.maxsize)\n",
    "linking_thresh = 5\n",
    "frame_thresh = 3\n",
    "path = \"./images/01/\"\n",
    "images = required_functions.load_images(path);\n",
    "path = \"./images/coordinates/Tracks1.csv\"\n",
    "coords = required_functions.load_coordinates(path);\n",
    "rows_0 = get_current_coords(coords,0)\n",
    "assign_new_IDs(coords,rows_0)\n",
    "n_frames = images.shape[2]\n",
    "for frame in range (1,n_frames):    \n",
    "    sys.stdout.write(\"\\rProcessing frame %i\" % frame)\n",
    "    start_frame = frame - frame_thresh\n",
    "    end_frame = frame-1\n",
    "    track_rows = get_available_tracks(coords,start_frame,end_frame)\n",
    "    point_rows = get_current_coords(coords,frame)\n",
    "    thresh = 10\n",
    "    costs = calculate_cost_matrix(coords,track_rows,point_rows,thresh)\n",
    "    assign_IDs(coords, track_rows, point_rows, costs)\n",
    "    assign_new_IDs(coords,point_rows)"
   ]
  },
  {
   "cell_type": "code",
   "execution_count": 11,
   "metadata": {},
   "outputs": [
    {
     "name": "stdout",
     "output_type": "stream",
     "text": [
      "Rendering frame 92 of 92"
     ]
    },
    {
     "data": {
      "application/vnd.jupyter.widget-view+json": {
       "model_id": "5f374ceeaafa4463b273217d5c3aeb67",
       "version_major": 2,
       "version_minor": 0
      },
      "text/plain": [
       "Canvas(toolbar=Toolbar(toolitems=[('Home', 'Reset original view', 'home', 'home'), ('Back', 'Back to previous …"
      ]
     },
     "metadata": {},
     "output_type": "display_data"
    },
    {
     "data": {
      "application/vnd.jupyter.widget-view+json": {
       "model_id": "18ad38e20ce847d79dabea249f50e5a2",
       "version_major": 2,
       "version_minor": 0
      },
      "text/plain": [
       "interactive(children=(IntSlider(value=0, description='frame', max=91), Output()), _dom_classes=('widget-intera…"
      ]
     },
     "metadata": {},
     "output_type": "display_data"
    }
   ],
   "source": [
    "required_functions.show_overlay(images,coords,True)"
   ]
  },
  {
   "cell_type": "code",
   "execution_count": null,
   "metadata": {},
   "outputs": [],
   "source": []
  }
 ],
 "metadata": {
  "kernelspec": {
   "display_name": "Python 3",
   "language": "python",
   "name": "python3"
  },
  "language_info": {
   "codemirror_mode": {
    "name": "ipython",
    "version": 3
   },
   "file_extension": ".py",
   "mimetype": "text/x-python",
   "name": "python",
   "nbconvert_exporter": "python",
   "pygments_lexer": "ipython3",
   "version": "3.7.4"
  }
 },
 "nbformat": 4,
 "nbformat_minor": 2
}
