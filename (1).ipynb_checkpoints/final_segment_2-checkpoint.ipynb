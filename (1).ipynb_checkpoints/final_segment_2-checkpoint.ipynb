{
 "cells": [
  {
   "cell_type": "code",
   "execution_count": 49,
   "metadata": {},
   "outputs": [],
   "source": [
    "%matplotlib inline\n",
    "from pandas import DataFrame as df\n",
    "from scipy import ndimage as ndi\n",
    "import matplotlib.pyplot as plt\n",
    "import skimage\n",
    "from skimage import data, img_as_float,color, img_as_ubyte\n",
    "from skimage import color, io\n",
    "from skimage.feature import peak_local_max, canny\n",
    "from skimage.transform import hough_circle,hough_circle_peaks,hough_line, hough_line_peaks\n",
    "from skimage.draw import circle_perimeter\n",
    "from skimage.filters import try_all_threshold, threshold_otsu, threshold_triangle\n",
    "from skimage.morphology import watershed, skeletonize\n",
    "from skimage.segmentation import chan_vese, felzenszwalb, slic, quickshift, watershed,mark_boundaries\n",
    "from skimage.measure import regionprops\n",
    "from matplotlib import cm\n",
    "import numpy as np"
   ]
  },
  {
   "cell_type": "code",
   "execution_count": 50,
   "metadata": {},
   "outputs": [],
   "source": [
    "loc_l = 'images/01/'\n",
    "loc_u = '.tif'\n",
    "centroid_x = []\n",
    "centroid_y = []\n",
    "object_id = []\n",
    "Timepoint = []\n",
    "for i in range(1,93):\n",
    "    loc = loc_l + str(i) + loc_u\n",
    "    img = io.imread(loc)\n",
    "    img = img_as_float(img)\n",
    "    thresh = skimage.filters.threshold_mean(img)\n",
    "    binary = img > thresh\n",
    "    distance = ndi.distance_transform_edt(binary)\n",
    "    local_maxi = np.copy(distance)\n",
    "    local_maxi = local_maxi>(np.max(local_maxi)*0.1)\n",
    "    coordinates = np.where(local_maxi)\n",
    "    markers = ndi.label(local_maxi)[0]\n",
    "    labels = watershed(-distance, markers, mask=binary)\n",
    "    props = regionprops(labels)\n",
    "    for prop in props:\n",
    "        Timepoint.append(i-1)\n",
    "        y0,x0 = prop.centroid\n",
    "        centroid_x.append(x0)\n",
    "        centroid_y.append(y0)\n",
    "object_id = [i for i in range(1,len(centroid_x)+1)]\n",
    "Track_id = [0 for i in range(1,len(centroid_x)+1)]"
   ]
  },
  {
   "cell_type": "code",
   "execution_count": 51,
   "metadata": {},
   "outputs": [],
   "source": [
    "total_data = [object_id,centroid_x,centroid_y,Timepoint,Track_id]"
   ]
  },
  {
   "cell_type": "code",
   "execution_count": 52,
   "metadata": {},
   "outputs": [
    {
     "data": {
      "text/html": [
       "<div>\n",
       "<style scoped>\n",
       "    .dataframe tbody tr th:only-of-type {\n",
       "        vertical-align: middle;\n",
       "    }\n",
       "\n",
       "    .dataframe tbody tr th {\n",
       "        vertical-align: top;\n",
       "    }\n",
       "\n",
       "    .dataframe thead th {\n",
       "        text-align: right;\n",
       "    }\n",
       "</style>\n",
       "<table border=\"1\" class=\"dataframe\">\n",
       "  <thead>\n",
       "    <tr style=\"text-align: right;\">\n",
       "      <th></th>\n",
       "      <th>object_ID</th>\n",
       "      <th>Centroid_X</th>\n",
       "      <th>Centroid_Y</th>\n",
       "      <th>TimePoint</th>\n",
       "      <th>Track_ID</th>\n",
       "    </tr>\n",
       "  </thead>\n",
       "  <tbody>\n",
       "    <tr>\n",
       "      <td>0</td>\n",
       "      <td>1</td>\n",
       "      <td>568.976240</td>\n",
       "      <td>43.481749</td>\n",
       "      <td>0</td>\n",
       "      <td>0</td>\n",
       "    </tr>\n",
       "    <tr>\n",
       "      <td>1</td>\n",
       "      <td>2</td>\n",
       "      <td>193.492887</td>\n",
       "      <td>104.489989</td>\n",
       "      <td>0</td>\n",
       "      <td>0</td>\n",
       "    </tr>\n",
       "    <tr>\n",
       "      <td>2</td>\n",
       "      <td>3</td>\n",
       "      <td>173.250000</td>\n",
       "      <td>84.250000</td>\n",
       "      <td>0</td>\n",
       "      <td>0</td>\n",
       "    </tr>\n",
       "    <tr>\n",
       "      <td>3</td>\n",
       "      <td>4</td>\n",
       "      <td>185.875000</td>\n",
       "      <td>114.291667</td>\n",
       "      <td>0</td>\n",
       "      <td>0</td>\n",
       "    </tr>\n",
       "    <tr>\n",
       "      <td>4</td>\n",
       "      <td>5</td>\n",
       "      <td>190.947368</td>\n",
       "      <td>128.315789</td>\n",
       "      <td>0</td>\n",
       "      <td>0</td>\n",
       "    </tr>\n",
       "    <tr>\n",
       "      <td>...</td>\n",
       "      <td>...</td>\n",
       "      <td>...</td>\n",
       "      <td>...</td>\n",
       "      <td>...</td>\n",
       "      <td>...</td>\n",
       "    </tr>\n",
       "    <tr>\n",
       "      <td>4672</td>\n",
       "      <td>4673</td>\n",
       "      <td>721.513725</td>\n",
       "      <td>960.623529</td>\n",
       "      <td>91</td>\n",
       "      <td>0</td>\n",
       "    </tr>\n",
       "    <tr>\n",
       "      <td>4673</td>\n",
       "      <td>4674</td>\n",
       "      <td>738.585859</td>\n",
       "      <td>959.868687</td>\n",
       "      <td>91</td>\n",
       "      <td>0</td>\n",
       "    </tr>\n",
       "    <tr>\n",
       "      <td>4674</td>\n",
       "      <td>4675</td>\n",
       "      <td>725.967089</td>\n",
       "      <td>975.088608</td>\n",
       "      <td>91</td>\n",
       "      <td>0</td>\n",
       "    </tr>\n",
       "    <tr>\n",
       "      <td>4675</td>\n",
       "      <td>4676</td>\n",
       "      <td>750.706767</td>\n",
       "      <td>971.355890</td>\n",
       "      <td>91</td>\n",
       "      <td>0</td>\n",
       "    </tr>\n",
       "    <tr>\n",
       "      <td>4676</td>\n",
       "      <td>4677</td>\n",
       "      <td>740.321053</td>\n",
       "      <td>984.415789</td>\n",
       "      <td>91</td>\n",
       "      <td>0</td>\n",
       "    </tr>\n",
       "  </tbody>\n",
       "</table>\n",
       "<p>4677 rows × 5 columns</p>\n",
       "</div>"
      ],
      "text/plain": [
       "      object_ID  Centroid_X  Centroid_Y  TimePoint  Track_ID\n",
       "0             1  568.976240   43.481749          0         0\n",
       "1             2  193.492887  104.489989          0         0\n",
       "2             3  173.250000   84.250000          0         0\n",
       "3             4  185.875000  114.291667          0         0\n",
       "4             5  190.947368  128.315789          0         0\n",
       "...         ...         ...         ...        ...       ...\n",
       "4672       4673  721.513725  960.623529         91         0\n",
       "4673       4674  738.585859  959.868687         91         0\n",
       "4674       4675  725.967089  975.088608         91         0\n",
       "4675       4676  750.706767  971.355890         91         0\n",
       "4676       4677  740.321053  984.415789         91         0\n",
       "\n",
       "[4677 rows x 5 columns]"
      ]
     },
     "execution_count": 52,
     "metadata": {},
     "output_type": "execute_result"
    }
   ],
   "source": [
    "data = df(object_id,columns = ['object_ID'])\n",
    "data['Centroid_X'] = centroid_x\n",
    "data['Centroid_Y'] = centroid_y\n",
    "data['TimePoint'] = Timepoint\n",
    "data['Track_ID'] = Track_id\n",
    "data"
   ]
  },
  {
   "cell_type": "code",
   "execution_count": 53,
   "metadata": {},
   "outputs": [],
   "source": [
    "import csv\n",
    "import io"
   ]
  },
  {
   "cell_type": "code",
   "execution_count": 55,
   "metadata": {},
   "outputs": [
    {
     "data": {
      "text/plain": [
       "'filename = \"Tracks.csv\"\\nwith io.open(filename, \\'w\\', encoding=\"utf-8\") as csvfile:  \\n    csvwriter = csv.writer(csvfile)  \\n    csvwriter.writerows(data)'"
      ]
     },
     "execution_count": 55,
     "metadata": {},
     "output_type": "execute_result"
    }
   ],
   "source": [
    "data.to_csv(\"Track.csv\")"
   ]
  },
  {
   "cell_type": "code",
   "execution_count": null,
   "metadata": {},
   "outputs": [],
   "source": []
  }
 ],
 "metadata": {
  "kernelspec": {
   "display_name": "Python 3",
   "language": "python",
   "name": "python3"
  },
  "language_info": {
   "codemirror_mode": {
    "name": "ipython",
    "version": 3
   },
   "file_extension": ".py",
   "mimetype": "text/x-python",
   "name": "python",
   "nbconvert_exporter": "python",
   "pygments_lexer": "ipython3",
   "version": "3.7.4"
  }
 },
 "nbformat": 4,
 "nbformat_minor": 4
}
